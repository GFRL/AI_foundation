{
 "cells": [
  {
   "cell_type": "code",
   "execution_count": 8,
   "id": "d8aca9a4",
   "metadata": {},
   "outputs": [
    {
     "name": "stdout",
     "output_type": "stream",
     "text": [
      "ETREEHTML\n",
      "['$2,628,000']\n",
      "head\n",
      "$2,628,000\n"
     ]
    },
    {
     "ename": "AttributeError",
     "evalue": "'lxml.etree._ElementUnicodeResult' object has no attribute 'tag'",
     "output_type": "error",
     "traceback": [
      "\u001b[1;31m---------------------------------------------------------------------------\u001b[0m",
      "\u001b[1;31mAttributeError\u001b[0m                            Traceback (most recent call last)",
      "Cell \u001b[1;32mIn[8], line 23\u001b[0m\n\u001b[0;32m     21\u001b[0m \u001b[38;5;28mprint\u001b[39m(html[\u001b[38;5;241m0\u001b[39m]\u001b[38;5;241m.\u001b[39mtag)\n\u001b[0;32m     22\u001b[0m \u001b[38;5;28mprint\u001b[39m(value[\u001b[38;5;241m0\u001b[39m])\n\u001b[1;32m---> 23\u001b[0m \u001b[38;5;28mprint\u001b[39m(\u001b[43mvalue\u001b[49m\u001b[43m[\u001b[49m\u001b[38;5;241;43m0\u001b[39;49m\u001b[43m]\u001b[49m\u001b[38;5;241;43m.\u001b[39;49m\u001b[43mtag\u001b[49m)\n\u001b[0;32m     24\u001b[0m \u001b[38;5;28mprint\u001b[39m(value[\u001b[38;5;241m0\u001b[39m]\u001b[38;5;241m.\u001b[39mstring)\n",
      "\u001b[1;31mAttributeError\u001b[0m: 'lxml.etree._ElementUnicodeResult' object has no attribute 'tag'"
     ]
    }
   ],
   "source": [
    "from selenium import webdriver\n",
    "\n",
    "chorme_options = webdriver.EdgeOptions()\n",
    "chrome = webdriver.Edge(options=chorme_options)\n",
    "url = 'https://www.zillow.com/homedetails/1062-Cathcart-Way-Stanford-CA-94305/19507271_zpid/'\n",
    "chrome.get(url)\n",
    "html = chrome.page_source\n",
    "\n",
    "#print(html)\n",
    "from lxml import etree \n",
    "from bs4 import BeautifulSoup \n",
    "soup = BeautifulSoup(html, 'html.parser')\n",
    "html=etree.HTML(chrome.page_source)\n",
    "# 获取房屋售价\n",
    "value=html.xpath(\"/html/body/div[1]/div[6]/div[1]/div[1]/div/div/div[1]/div/div/div[1]/div[2]/div[2]/div[1]/div/div[1]/span/strong/text()[2]\")\n",
    "# 以下代码需要自己填写\n",
    "# 获取房屋其他信息\n",
    "# 以json格式输出这些信息\n",
    "print(\"ETREEHTML\")\n",
    "print(value)\n",
    "print(html[0].tag)\n",
    "print(value[0])\n",
    "print(value[0].tag)\n",
    "print(value[0].string)"
   ]
  },
  {
   "cell_type": "code",
   "execution_count": null,
   "id": "1f48746d",
   "metadata": {},
   "outputs": [],
   "source": []
  }
 ],
 "metadata": {
  "kernelspec": {
   "display_name": "Python 3 (ipykernel)",
   "language": "python",
   "name": "python3"
  },
  "language_info": {
   "codemirror_mode": {
    "name": "ipython",
    "version": 3
   },
   "file_extension": ".py",
   "mimetype": "text/x-python",
   "name": "python",
   "nbconvert_exporter": "python",
   "pygments_lexer": "ipython3",
   "version": "3.10.9"
  }
 },
 "nbformat": 4,
 "nbformat_minor": 5
}
